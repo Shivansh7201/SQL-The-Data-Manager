{
 "cells": [
  {
   "cell_type": "markdown",
   "metadata": {},
   "source": [
    "### Introduction  \n",
    "Welcome to the **1st module** on **Learn SQL Syntax**.  \n",
    "\n",
    "#### Some Important Points:  \n",
    "- By the end of this learning path, you will be able to understand and interpret SQL queries.  \n",
    "- Please feel free to provide feedback for each problem, solution, or module. Your feedback helps us improve.  \n",
    "\n",
    "**Structured Query Language (SQL)** is a programming language designed for accessing, organizing, and manipulating data within relational databases. In a relational database, information is stored in one or more tables, each containing columns and rows with interconnected data entries.  \n",
    "\n",
    "#### Let's Begin!  \n",
    "Let’s output all the data entered in the **\"employee\"** table (already created).  \n",
    "\n",
    "| Employee_id | Employee_Name    | Department  |  \n",
    "|------------|----------------|------------|  \n",
    "| 1          | Kayla Thompson  | Sales      |  \n",
    "| 2          | Ethan Chen      | Operations |  \n",
    "| 3          | Julia Lee       | HR         |  \n",
    "| 4          | Marcus Garcia   | Product    |  \n",
    "| 5          | Samantha Park   | Operations |  \n"
   ]
  },
  {
   "cell_type": "code",
   "execution_count": null,
   "metadata": {
    "vscode": {
     "languageId": "sql"
    }
   },
   "outputs": [],
   "source": [
    "select * from employee;\n",
    "\n",
    "┌─────────────┬────────────────┬────────────┐\n",
    "│ Employee_id │ Employee_Name  │ Department │\n",
    "├─────────────┼────────────────┼────────────┤\n",
    "│ 1           │ Kayla Thompson │ Sales      │\n",
    "│ 2           │ Ethan Chen     │ Operations │\n",
    "│ 3           │ Julia Lee      │ Hr         │\n",
    "│ 4           │ Marcus Garcia  │ Product    │\n",
    "│ 5           │ Samantha Park  │ Operations │\n",
    "└─────────────┴────────────────┴────────────┘"
   ]
  },
  {
   "cell_type": "markdown",
   "metadata": {},
   "source": []
  }
 ],
 "metadata": {
  "kernelspec": {
   "display_name": "Python 3",
   "language": "python",
   "name": "python3"
  },
  "language_info": {
   "codemirror_mode": {
    "name": "ipython",
    "version": 3
   },
   "file_extension": ".py",
   "mimetype": "text/x-python",
   "name": "python",
   "nbconvert_exporter": "python",
   "pygments_lexer": "ipython3",
   "version": "3.12.2"
  }
 },
 "nbformat": 4,
 "nbformat_minor": 2
}
